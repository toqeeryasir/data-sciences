{
 "cells": [
  {
   "cell_type": "code",
   "execution_count": 1,
   "id": "5265dff3",
   "metadata": {},
   "outputs": [],
   "source": [
    "import threading\n",
    "import time"
   ]
  },
  {
   "cell_type": "code",
   "execution_count": 5,
   "id": "bf164f3d",
   "metadata": {},
   "outputs": [
    {
     "name": "stdout",
     "output_type": "stream",
     "text": [
      "Thread-1 incremented the counter to 1.\n",
      "Thread-2 incremented the counter to 2.\n",
      "Thread-1 incremented the counter to 3.\n",
      "Thread-2 incremented the counter to 4.\n",
      "Thread-1 incremented the counter to 5.\n",
      "Thread-2 incremented the counter to 6.\n",
      "Thread-1 incremented the counter to 7.\n",
      "Thread-2 incremented the counter to 8.\n",
      "Thread-1 incremented the counter to 9.\n",
      "Thread-2 incremented the counter to 10.\n",
      "All the threads has completed their work!\n"
     ]
    }
   ],
   "source": [
    "lock = threading.Lock()\n",
    "\n",
    "conter = 0\n",
    "\n",
    "def thread_increment():\n",
    "    global conter\n",
    "    \n",
    "    for _ in range(5):\n",
    "    \n",
    "        with lock:\n",
    "            temp = conter\n",
    "            time.sleep(1)\n",
    "            conter = temp +1\n",
    "        print(f\"{threading.current_thread().name} incremented the counter to {conter}.\")\n",
    "    \n",
    "thread_1 = threading.Thread(target=thread_increment, name = \"Thread-1\")\n",
    "thread_2 = threading.Thread(target=thread_increment, name = \"Thread-2\")\n",
    "    \n",
    "thread_1.start()\n",
    "thread_2.start()\n",
    "\n",
    "thread_1.join()\n",
    "thread_2.join()    \n",
    "print(\"All the threads has completed their work!\")"
   ]
  },
  {
   "cell_type": "code",
   "execution_count": null,
   "id": "447da0b4",
   "metadata": {},
   "outputs": [],
   "source": []
  }
 ],
 "metadata": {
  "kernelspec": {
   "display_name": "Python 3 (ipykernel)",
   "language": "python",
   "name": "python3"
  },
  "language_info": {
   "codemirror_mode": {
    "name": "ipython",
    "version": 3
   },
   "file_extension": ".py",
   "mimetype": "text/x-python",
   "name": "python",
   "nbconvert_exporter": "python",
   "pygments_lexer": "ipython3",
   "version": "3.12.2"
  }
 },
 "nbformat": 4,
 "nbformat_minor": 5
}
