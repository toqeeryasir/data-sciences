{
 "cells": [
  {
   "cell_type": "code",
   "execution_count": 3,
   "id": "360b0b79",
   "metadata": {},
   "outputs": [],
   "source": [
    "import threading\n",
    "import time"
   ]
  },
  {
   "cell_type": "code",
   "execution_count": 13,
   "id": "eb7f77ce",
   "metadata": {},
   "outputs": [
    {
     "name": "stdout",
     "output_type": "stream",
     "text": [
      "Thread-1 incremented counter to 1\n",
      "Thread-2 incremented counter to 2\n",
      "Thread-1 incremented counter to 3\n",
      "Thread-2 incremented counter to 4\n",
      "Thread-1 incremented counter to 5\n",
      "Thread-2 incremented counter to 6\n",
      "Thread-1 incremented counter to 7\n",
      "Thread-2 incremented counter to 8\n",
      "Thread-1 incremented counter to 9\n",
      "Thread-2 incremented counter to 10\n",
      "Final Counter Value: 10\n"
     ]
    }
   ],
   "source": [
    "counter = 0\n",
    "lock = threading.Lock()\n",
    "\n",
    "def increment_counter():\n",
    "    global counter\n",
    "    for _ in range(5):\n",
    "        with lock:\n",
    "            temp = counter\n",
    "            time.sleep(1)\n",
    "            counter = temp + 1\n",
    "            print(f\"{threading.current_thread().name} incremented counter to {counter}\")\n",
    "\n",
    "thread1 = threading.Thread(target=increment_counter, name=\"Thread-1\")\n",
    "thread2 = threading.Thread(target=increment_counter, name=\"Thread-2\")\n",
    "\n",
    "thread1.start()\n",
    "thread2.start()\n",
    "\n",
    "thread1.join()\n",
    "thread2.join()\n",
    "\n",
    "print(f\"Final Counter Value: {counter}\")"
   ]
  },
  {
   "cell_type": "code",
   "execution_count": null,
   "id": "3d06dacd",
   "metadata": {},
   "outputs": [],
   "source": []
  }
 ],
 "metadata": {
  "kernelspec": {
   "display_name": "Python 3 (ipykernel)",
   "language": "python",
   "name": "python3"
  },
  "language_info": {
   "codemirror_mode": {
    "name": "ipython",
    "version": 3
   },
   "file_extension": ".py",
   "mimetype": "text/x-python",
   "name": "python",
   "nbconvert_exporter": "python",
   "pygments_lexer": "ipython3",
   "version": "3.12.2"
  }
 },
 "nbformat": 4,
 "nbformat_minor": 5
}
