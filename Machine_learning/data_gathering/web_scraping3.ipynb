{
 "cells": [
  {
   "cell_type": "code",
   "execution_count": 1,
   "id": "142b4d60-f23d-466f-b7db-3f29ca7e7f94",
   "metadata": {},
   "outputs": [],
   "source": [
    "from bs4 import BeautifulSoup as bfs"
   ]
  },
  {
   "cell_type": "code",
   "execution_count": 2,
   "id": "9cd14868-69a8-4e8b-9373-a817fc9a20ff",
   "metadata": {},
   "outputs": [],
   "source": [
    "import requests as req"
   ]
  },
  {
   "cell_type": "code",
   "execution_count": 3,
   "id": "c3d294ba-89de-40c6-a0b1-2070d1351643",
   "metadata": {},
   "outputs": [],
   "source": [
    "with open('example.html', 'r') as file :\n",
    "    rb_file = file.read()"
   ]
  },
  {
   "cell_type": "code",
   "execution_count": 4,
   "id": "7d3fcc97-3f96-436e-b514-ac0504da67a6",
   "metadata": {},
   "outputs": [
    {
     "data": {
      "text/plain": [
       "<html><head><title>The Website Title</title></head>\n",
       "<body>\n",
       "<p>Download my <strong>Python</strong> book from <a href=\"https://\n",
       "inventwithpython.com\">my website</a>.</p>\n",
       "<p class=\"slogan\">Learn Python the easy way!</p>\n",
       "<p>By <span id=\"author\">Al Sweigart</span></p>\n",
       "</body></html>"
      ]
     },
     "execution_count": 4,
     "metadata": {},
     "output_type": "execute_result"
    }
   ],
   "source": [
    "examplesoup = bfs(rb_file, 'lxml')\n",
    "examplesoup"
   ]
  },
  {
   "cell_type": "code",
   "execution_count": 43,
   "id": "65ef67aa-18b5-438a-b001-48d1cd463e29",
   "metadata": {},
   "outputs": [],
   "source": [
    "elements = examplesoup.select('#author')"
   ]
  },
  {
   "cell_type": "code",
   "execution_count": 6,
   "id": "380cfa99-e6dd-48fc-b491-d1c200780236",
   "metadata": {},
   "outputs": [
    {
     "data": {
      "text/plain": [
       "<span id=\"author\">Al Sweigart</span>"
      ]
     },
     "execution_count": 6,
     "metadata": {},
     "output_type": "execute_result"
    }
   ],
   "source": [
    "elements[0]"
   ]
  },
  {
   "cell_type": "code",
   "execution_count": 7,
   "id": "b07d29fe-4364-4425-bd49-f5593d459d6b",
   "metadata": {},
   "outputs": [
    {
     "data": {
      "text/plain": [
       "'Al Sweigart'"
      ]
     },
     "execution_count": 7,
     "metadata": {},
     "output_type": "execute_result"
    }
   ],
   "source": [
    "elements[0].text"
   ]
  },
  {
   "cell_type": "code",
   "execution_count": 8,
   "id": "02313e8f-0f61-4d5b-9b60-266afe68606a",
   "metadata": {},
   "outputs": [
    {
     "data": {
      "text/plain": [
       "{'id': 'author'}"
      ]
     },
     "execution_count": 8,
     "metadata": {},
     "output_type": "execute_result"
    }
   ],
   "source": [
    "elements[0].attrs"
   ]
  },
  {
   "cell_type": "code",
   "execution_count": 49,
   "id": "aa0b5c2e-a243-48a8-b3b4-693099816f9d",
   "metadata": {},
   "outputs": [
    {
     "data": {
      "text/plain": [
       "[<p>Download my <strong>Python</strong> book from <a href=\"https://\n",
       " inventwithpython.com\">my website</a>.</p>,\n",
       " <p class=\"slogan\">Learn Python the easy way!</p>,\n",
       " <p>By <span id=\"author\">Al Sweigart</span></p>]"
      ]
     },
     "execution_count": 49,
     "metadata": {},
     "output_type": "execute_result"
    }
   ],
   "source": [
    "elements = examplesoup.select('p')\n",
    "elements"
   ]
  },
  {
   "cell_type": "code",
   "execution_count": 42,
   "id": "b7ae744a-8286-479a-860e-0b7b7993a3f6",
   "metadata": {},
   "outputs": [
    {
     "name": "stdout",
     "output_type": "stream",
     "text": [
      "Download my Python book from my website.\n",
      "Learn Python the easy way!\n",
      "By Al Sweigart\n"
     ]
    }
   ],
   "source": [
    "for element in elements:\n",
    "    print(element.text)"
   ]
  },
  {
   "cell_type": "code",
   "execution_count": 56,
   "id": "ff316441-4763-4467-830f-c33265c3247c",
   "metadata": {},
   "outputs": [
    {
     "data": {
      "text/plain": [
       "1"
      ]
     },
     "execution_count": 56,
     "metadata": {},
     "output_type": "execute_result"
    }
   ],
   "source": [
    "spanele = examplesoup.select('span')\n",
    "len(spanele)"
   ]
  },
  {
   "cell_type": "code",
   "execution_count": 63,
   "id": "bc55946e-146b-488b-a628-0aa2803aa338",
   "metadata": {},
   "outputs": [
    {
     "data": {
      "text/plain": [
       "'Al Sweigart'"
      ]
     },
     "execution_count": 63,
     "metadata": {},
     "output_type": "execute_result"
    }
   ],
   "source": [
    "spanele[0].text"
   ]
  }
 ],
 "metadata": {
  "kernelspec": {
   "display_name": "Python 3 (ipykernel)",
   "language": "python",
   "name": "python3"
  },
  "language_info": {
   "codemirror_mode": {
    "name": "ipython",
    "version": 3
   },
   "file_extension": ".py",
   "mimetype": "text/x-python",
   "name": "python",
   "nbconvert_exporter": "python",
   "pygments_lexer": "ipython3",
   "version": "3.12.4"
  }
 },
 "nbformat": 4,
 "nbformat_minor": 5
}
