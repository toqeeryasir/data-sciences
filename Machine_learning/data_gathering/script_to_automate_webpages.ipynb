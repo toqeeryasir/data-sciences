{
 "cells": [
  {
   "cell_type": "code",
   "execution_count": 2,
   "id": "82840010-b05c-427c-aff1-33a564b79594",
   "metadata": {},
   "outputs": [],
   "source": [
    "import webbrowser, bs4, requests, sys"
   ]
  },
  {
   "cell_type": "code",
   "execution_count": 13,
   "id": "6b9e635f-ae0d-4721-a5f3-aa7bb81380f0",
   "metadata": {},
   "outputs": [],
   "source": [
    "req = requests.get(f'https://pypi.org/search/?q={sys.argv[1:]}')"
   ]
  },
  {
   "cell_type": "code",
   "execution_count": 14,
   "id": "a0091d78-d980-455c-9d03-0f8ed1d2b74d",
   "metadata": {},
   "outputs": [],
   "source": [
    "soup = bs4.BeautifulSoup(req.text, 'lxml')"
   ]
  },
  {
   "cell_type": "code",
   "execution_count": 15,
   "id": "26b79dbe-8f5f-42a2-a6c7-c8d1cae5232f",
   "metadata": {},
   "outputs": [],
   "source": [
    "links = soup.select('.package-snippet')"
   ]
  },
  {
   "cell_type": "code",
   "execution_count": 16,
   "id": "825e420e-2ee0-466b-9604-2acde17674ad",
   "metadata": {},
   "outputs": [],
   "source": [
    "num_of_links = min(5, len(links))"
   ]
  },
  {
   "cell_type": "code",
   "execution_count": 22,
   "id": "486c492f-7160-471c-a5d8-175ca9cae31e",
   "metadata": {},
   "outputs": [
    {
     "name": "stdout",
     "output_type": "stream",
     "text": [
      "Opening link1:  /project/ml4/\n",
      "Opening link2:  /project/ml5/\n",
      "Opening link3:  /project/ml6/\n",
      "Opening link4:  /project/ml7/\n",
      "Opening link5:  /project/ml8/\n",
      "Congrets links opened succfully \":)\" \n"
     ]
    }
   ],
   "source": [
    "\n",
    "try:\n",
    "    for i in range(num_of_links):\n",
    "        url = f'https://pypi.org{links[i].get('href')}'\n",
    "        print(f'Opening link{i+1}: ', links[i].get('href'))\n",
    "        webbrowser.open(url)\n",
    "    print('''Congrets links opened succfully \":)\" ''')\n",
    "except:\n",
    "    print('''Sory a problem occured while processing \":(\" ''')"
   ]
  },
  {
   "cell_type": "code",
   "execution_count": null,
   "id": "34cf48f6-0fec-4417-ae86-d2450945b62d",
   "metadata": {},
   "outputs": [],
   "source": []
  }
 ],
 "metadata": {
  "kernelspec": {
   "display_name": "Python 3 (ipykernel)",
   "language": "python",
   "name": "python3"
  },
  "language_info": {
   "codemirror_mode": {
    "name": "ipython",
    "version": 3
   },
   "file_extension": ".py",
   "mimetype": "text/x-python",
   "name": "python",
   "nbconvert_exporter": "python",
   "pygments_lexer": "ipython3",
   "version": "3.12.4"
  }
 },
 "nbformat": 4,
 "nbformat_minor": 5
}
