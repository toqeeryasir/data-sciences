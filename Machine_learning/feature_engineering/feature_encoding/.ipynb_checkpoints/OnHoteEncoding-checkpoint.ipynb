{
 "cells": [
  {
   "cell_type": "code",
   "execution_count": 1,
   "id": "ee5e9786-784b-43a5-af39-c9c51a3221dc",
   "metadata": {},
   "outputs": [],
   "source": [
    "import numpy as np\n",
    "import pandas as pd\n",
    "from sklearn.preprocessing import OneHotEncoder\n",
    "from sklearn.model_selection import train_test_split"
   ]
  },
  {
   "cell_type": "code",
   "execution_count": 2,
   "id": "ecf42f57-070e-4ed7-b0ca-bc474898bb83",
   "metadata": {},
   "outputs": [],
   "source": [
    "df = pd.read_csv(\"cars.csv\")"
   ]
  },
  {
   "cell_type": "code",
   "execution_count": 3,
   "id": "e57ddf7b-9f41-4b4e-88c0-794799572c16",
   "metadata": {},
   "outputs": [
    {
     "data": {
      "text/html": [
       "<div>\n",
       "<style scoped>\n",
       "    .dataframe tbody tr th:only-of-type {\n",
       "        vertical-align: middle;\n",
       "    }\n",
       "\n",
       "    .dataframe tbody tr th {\n",
       "        vertical-align: top;\n",
       "    }\n",
       "\n",
       "    .dataframe thead th {\n",
       "        text-align: right;\n",
       "    }\n",
       "</style>\n",
       "<table border=\"1\" class=\"dataframe\">\n",
       "  <thead>\n",
       "    <tr style=\"text-align: right;\">\n",
       "      <th></th>\n",
       "      <th>brand</th>\n",
       "      <th>km_driven</th>\n",
       "      <th>fuel</th>\n",
       "      <th>owner</th>\n",
       "      <th>selling_price</th>\n",
       "    </tr>\n",
       "  </thead>\n",
       "  <tbody>\n",
       "    <tr>\n",
       "      <th>638</th>\n",
       "      <td>Hyundai</td>\n",
       "      <td>90000</td>\n",
       "      <td>Diesel</td>\n",
       "      <td>Third Owner</td>\n",
       "      <td>270000</td>\n",
       "    </tr>\n",
       "    <tr>\n",
       "      <th>2363</th>\n",
       "      <td>Hyundai</td>\n",
       "      <td>50000</td>\n",
       "      <td>Diesel</td>\n",
       "      <td>First Owner</td>\n",
       "      <td>550000</td>\n",
       "    </tr>\n",
       "    <tr>\n",
       "      <th>7122</th>\n",
       "      <td>Maruti</td>\n",
       "      <td>40000</td>\n",
       "      <td>Petrol</td>\n",
       "      <td>First Owner</td>\n",
       "      <td>254000</td>\n",
       "    </tr>\n",
       "    <tr>\n",
       "      <th>3382</th>\n",
       "      <td>Maruti</td>\n",
       "      <td>35000</td>\n",
       "      <td>Petrol</td>\n",
       "      <td>First Owner</td>\n",
       "      <td>140000</td>\n",
       "    </tr>\n",
       "    <tr>\n",
       "      <th>6113</th>\n",
       "      <td>Maruti</td>\n",
       "      <td>60000</td>\n",
       "      <td>Diesel</td>\n",
       "      <td>First Owner</td>\n",
       "      <td>720000</td>\n",
       "    </tr>\n",
       "  </tbody>\n",
       "</table>\n",
       "</div>"
      ],
      "text/plain": [
       "        brand  km_driven    fuel        owner  selling_price\n",
       "638   Hyundai      90000  Diesel  Third Owner         270000\n",
       "2363  Hyundai      50000  Diesel  First Owner         550000\n",
       "7122   Maruti      40000  Petrol  First Owner         254000\n",
       "3382   Maruti      35000  Petrol  First Owner         140000\n",
       "6113   Maruti      60000  Diesel  First Owner         720000"
      ]
     },
     "execution_count": 3,
     "metadata": {},
     "output_type": "execute_result"
    }
   ],
   "source": [
    "df.sample(5)"
   ]
  },
  {
   "cell_type": "code",
   "execution_count": 4,
   "id": "55a295e7-7890-49d5-91e4-c453ed402fc7",
   "metadata": {},
   "outputs": [
    {
     "data": {
      "text/html": [
       "<div>\n",
       "<style scoped>\n",
       "    .dataframe tbody tr th:only-of-type {\n",
       "        vertical-align: middle;\n",
       "    }\n",
       "\n",
       "    .dataframe tbody tr th {\n",
       "        vertical-align: top;\n",
       "    }\n",
       "\n",
       "    .dataframe thead th {\n",
       "        text-align: right;\n",
       "    }\n",
       "</style>\n",
       "<table border=\"1\" class=\"dataframe\">\n",
       "  <thead>\n",
       "    <tr style=\"text-align: right;\">\n",
       "      <th></th>\n",
       "      <th>km_driven</th>\n",
       "      <th>selling_price</th>\n",
       "    </tr>\n",
       "  </thead>\n",
       "  <tbody>\n",
       "    <tr>\n",
       "      <th>count</th>\n",
       "      <td>8.128000e+03</td>\n",
       "      <td>8.128000e+03</td>\n",
       "    </tr>\n",
       "    <tr>\n",
       "      <th>mean</th>\n",
       "      <td>6.981951e+04</td>\n",
       "      <td>6.382718e+05</td>\n",
       "    </tr>\n",
       "    <tr>\n",
       "      <th>std</th>\n",
       "      <td>5.655055e+04</td>\n",
       "      <td>8.062534e+05</td>\n",
       "    </tr>\n",
       "    <tr>\n",
       "      <th>min</th>\n",
       "      <td>1.000000e+00</td>\n",
       "      <td>2.999900e+04</td>\n",
       "    </tr>\n",
       "    <tr>\n",
       "      <th>25%</th>\n",
       "      <td>3.500000e+04</td>\n",
       "      <td>2.549990e+05</td>\n",
       "    </tr>\n",
       "    <tr>\n",
       "      <th>50%</th>\n",
       "      <td>6.000000e+04</td>\n",
       "      <td>4.500000e+05</td>\n",
       "    </tr>\n",
       "    <tr>\n",
       "      <th>75%</th>\n",
       "      <td>9.800000e+04</td>\n",
       "      <td>6.750000e+05</td>\n",
       "    </tr>\n",
       "    <tr>\n",
       "      <th>max</th>\n",
       "      <td>2.360457e+06</td>\n",
       "      <td>1.000000e+07</td>\n",
       "    </tr>\n",
       "  </tbody>\n",
       "</table>\n",
       "</div>"
      ],
      "text/plain": [
       "          km_driven  selling_price\n",
       "count  8.128000e+03   8.128000e+03\n",
       "mean   6.981951e+04   6.382718e+05\n",
       "std    5.655055e+04   8.062534e+05\n",
       "min    1.000000e+00   2.999900e+04\n",
       "25%    3.500000e+04   2.549990e+05\n",
       "50%    6.000000e+04   4.500000e+05\n",
       "75%    9.800000e+04   6.750000e+05\n",
       "max    2.360457e+06   1.000000e+07"
      ]
     },
     "execution_count": 4,
     "metadata": {},
     "output_type": "execute_result"
    }
   ],
   "source": [
    "df.describe()"
   ]
  },
  {
   "cell_type": "code",
   "execution_count": 5,
   "id": "17124ed1-0854-4593-93f9-7a6b4e6780b9",
   "metadata": {},
   "outputs": [
    {
     "data": {
      "text/plain": [
       "brand            0\n",
       "km_driven        0\n",
       "fuel             0\n",
       "owner            0\n",
       "selling_price    0\n",
       "dtype: int64"
      ]
     },
     "execution_count": 5,
     "metadata": {},
     "output_type": "execute_result"
    }
   ],
   "source": [
    "df.isnull().sum()"
   ]
  },
  {
   "cell_type": "code",
   "execution_count": 6,
   "id": "c6804e8f-6fa5-43c4-9da3-4d575258b928",
   "metadata": {},
   "outputs": [
    {
     "data": {
      "text/plain": [
       "8128"
      ]
     },
     "execution_count": 6,
     "metadata": {},
     "output_type": "execute_result"
    }
   ],
   "source": [
    "df.value_counts().sum()"
   ]
  },
  {
   "cell_type": "code",
   "execution_count": 7,
   "id": "655c177b-05fb-47cb-84c3-ec2866a6bf9f",
   "metadata": {},
   "outputs": [
    {
     "data": {
      "text/plain": [
       "array(['Maruti', 'Skoda', 'Honda', 'Hyundai', 'Toyota', 'Ford', 'Renault',\n",
       "       'Mahindra', 'Tata', 'Chevrolet', 'Fiat', 'Datsun', 'Jeep',\n",
       "       'Mercedes-Benz', 'Mitsubishi', 'Audi', 'Volkswagen', 'BMW',\n",
       "       'Nissan', 'Lexus', 'Jaguar', 'Land', 'MG', 'Volvo', 'Daewoo',\n",
       "       'Kia', 'Force', 'Ambassador', 'Ashok', 'Isuzu', 'Opel', 'Peugeot'],\n",
       "      dtype=object)"
      ]
     },
     "execution_count": 7,
     "metadata": {},
     "output_type": "execute_result"
    }
   ],
   "source": [
    "df[\"brand\"].unique()"
   ]
  },
  {
   "cell_type": "code",
   "execution_count": 8,
   "id": "00923b68-a182-4f5d-8229-639411234d69",
   "metadata": {},
   "outputs": [
    {
     "data": {
      "text/plain": [
       "brand\n",
       "Maruti           2448\n",
       "Hyundai          1415\n",
       "Mahindra          772\n",
       "Tata              734\n",
       "Toyota            488\n",
       "Honda             467\n",
       "Ford              397\n",
       "Chevrolet         230\n",
       "Renault           228\n",
       "Volkswagen        186\n",
       "BMW               120\n",
       "Skoda             105\n",
       "Nissan             81\n",
       "Jaguar             71\n",
       "Volvo              67\n",
       "Datsun             65\n",
       "Mercedes-Benz      54\n",
       "Fiat               47\n",
       "Audi               40\n",
       "Lexus              34\n",
       "Jeep               31\n",
       "Mitsubishi         14\n",
       "Force               6\n",
       "Land                6\n",
       "Isuzu               5\n",
       "Kia                 4\n",
       "Ambassador          4\n",
       "Daewoo              3\n",
       "MG                  3\n",
       "Ashok               1\n",
       "Opel                1\n",
       "Peugeot             1\n",
       "Name: count, dtype: int64"
      ]
     },
     "execution_count": 8,
     "metadata": {},
     "output_type": "execute_result"
    }
   ],
   "source": [
    "df[\"brand\"].value_counts()"
   ]
  },
  {
   "cell_type": "code",
   "execution_count": 9,
   "id": "73a2805b-3216-4064-82f4-505042aa3352",
   "metadata": {},
   "outputs": [],
   "source": [
    "x_train, x_test, y_train, y_test = train_test_split(df.iloc[:, 0:4], df.iloc[:, -1], test_size=0.3, random_state=None)"
   ]
  },
  {
   "cell_type": "code",
   "execution_count": 11,
   "id": "8e7b61bc-7fc6-4d76-8b3f-02eb1ed6fa13",
   "metadata": {},
   "outputs": [
    {
     "data": {
      "text/html": [
       "<div>\n",
       "<style scoped>\n",
       "    .dataframe tbody tr th:only-of-type {\n",
       "        vertical-align: middle;\n",
       "    }\n",
       "\n",
       "    .dataframe tbody tr th {\n",
       "        vertical-align: top;\n",
       "    }\n",
       "\n",
       "    .dataframe thead th {\n",
       "        text-align: right;\n",
       "    }\n",
       "</style>\n",
       "<table border=\"1\" class=\"dataframe\">\n",
       "  <thead>\n",
       "    <tr style=\"text-align: right;\">\n",
       "      <th></th>\n",
       "      <th>brand</th>\n",
       "      <th>km_driven</th>\n",
       "      <th>fuel</th>\n",
       "      <th>owner</th>\n",
       "    </tr>\n",
       "  </thead>\n",
       "  <tbody>\n",
       "    <tr>\n",
       "      <th>5076</th>\n",
       "      <td>Nissan</td>\n",
       "      <td>120000</td>\n",
       "      <td>Diesel</td>\n",
       "      <td>First Owner</td>\n",
       "    </tr>\n",
       "    <tr>\n",
       "      <th>2156</th>\n",
       "      <td>Hyundai</td>\n",
       "      <td>15000</td>\n",
       "      <td>Petrol</td>\n",
       "      <td>First Owner</td>\n",
       "    </tr>\n",
       "    <tr>\n",
       "      <th>5794</th>\n",
       "      <td>Hyundai</td>\n",
       "      <td>120000</td>\n",
       "      <td>Diesel</td>\n",
       "      <td>First Owner</td>\n",
       "    </tr>\n",
       "    <tr>\n",
       "      <th>6726</th>\n",
       "      <td>Maruti</td>\n",
       "      <td>40000</td>\n",
       "      <td>Petrol</td>\n",
       "      <td>Third Owner</td>\n",
       "    </tr>\n",
       "    <tr>\n",
       "      <th>8117</th>\n",
       "      <td>Maruti</td>\n",
       "      <td>50000</td>\n",
       "      <td>Diesel</td>\n",
       "      <td>First Owner</td>\n",
       "    </tr>\n",
       "    <tr>\n",
       "      <th>...</th>\n",
       "      <td>...</td>\n",
       "      <td>...</td>\n",
       "      <td>...</td>\n",
       "      <td>...</td>\n",
       "    </tr>\n",
       "    <tr>\n",
       "      <th>7204</th>\n",
       "      <td>Maruti</td>\n",
       "      <td>90000</td>\n",
       "      <td>Petrol</td>\n",
       "      <td>Second Owner</td>\n",
       "    </tr>\n",
       "    <tr>\n",
       "      <th>7883</th>\n",
       "      <td>Ford</td>\n",
       "      <td>50699</td>\n",
       "      <td>Diesel</td>\n",
       "      <td>First Owner</td>\n",
       "    </tr>\n",
       "    <tr>\n",
       "      <th>7952</th>\n",
       "      <td>Maruti</td>\n",
       "      <td>5000</td>\n",
       "      <td>Petrol</td>\n",
       "      <td>First Owner</td>\n",
       "    </tr>\n",
       "    <tr>\n",
       "      <th>3271</th>\n",
       "      <td>Hyundai</td>\n",
       "      <td>60000</td>\n",
       "      <td>Petrol</td>\n",
       "      <td>Second Owner</td>\n",
       "    </tr>\n",
       "    <tr>\n",
       "      <th>5846</th>\n",
       "      <td>Volkswagen</td>\n",
       "      <td>28100</td>\n",
       "      <td>Petrol</td>\n",
       "      <td>First Owner</td>\n",
       "    </tr>\n",
       "  </tbody>\n",
       "</table>\n",
       "<p>5689 rows × 4 columns</p>\n",
       "</div>"
      ],
      "text/plain": [
       "           brand  km_driven    fuel         owner\n",
       "5076      Nissan     120000  Diesel   First Owner\n",
       "2156     Hyundai      15000  Petrol   First Owner\n",
       "5794     Hyundai     120000  Diesel   First Owner\n",
       "6726      Maruti      40000  Petrol   Third Owner\n",
       "8117      Maruti      50000  Diesel   First Owner\n",
       "...          ...        ...     ...           ...\n",
       "7204      Maruti      90000  Petrol  Second Owner\n",
       "7883        Ford      50699  Diesel   First Owner\n",
       "7952      Maruti       5000  Petrol   First Owner\n",
       "3271     Hyundai      60000  Petrol  Second Owner\n",
       "5846  Volkswagen      28100  Petrol   First Owner\n",
       "\n",
       "[5689 rows x 4 columns]"
      ]
     },
     "execution_count": 11,
     "metadata": {},
     "output_type": "execute_result"
    }
   ],
   "source": [
    "x_train"
   ]
  },
  {
   "cell_type": "code",
   "execution_count": 20,
   "id": "6b228153-7ab9-42da-853b-294dbcdb44a0",
   "metadata": {},
   "outputs": [],
   "source": [
    "ohe = OneHotEncoder(drop=\"first\", sparse_output=False, dtype=\"int32\")"
   ]
  },
  {
   "cell_type": "code",
   "execution_count": 34,
   "id": "8e36886d-3650-4760-a391-3a882353641c",
   "metadata": {},
   "outputs": [],
   "source": [
    "x_train_new = ohe.fit_transform(x_train[[\"fuel\", \"owner\"]])"
   ]
  },
  {
   "cell_type": "code",
   "execution_count": 35,
   "id": "e2eb4d64-4524-4bf6-ac1b-e90a979881b5",
   "metadata": {},
   "outputs": [],
   "source": [
    "x_test_new = ohe.transform(x_test[[\"fuel\", \"owner\"]])"
   ]
  },
  {
   "cell_type": "code",
   "execution_count": 36,
   "id": "5c01baae-286a-474b-af75-d7fd4215e52c",
   "metadata": {},
   "outputs": [
    {
     "data": {
      "text/plain": [
       "array([[1, 0, 0, ..., 0, 0, 0],\n",
       "       [0, 0, 1, ..., 0, 0, 0],\n",
       "       [1, 0, 0, ..., 0, 0, 0],\n",
       "       ...,\n",
       "       [0, 0, 1, ..., 0, 0, 0],\n",
       "       [0, 0, 1, ..., 1, 0, 0],\n",
       "       [0, 0, 1, ..., 0, 0, 0]], dtype=int32)"
      ]
     },
     "execution_count": 36,
     "metadata": {},
     "output_type": "execute_result"
    }
   ],
   "source": [
    "x_train_new"
   ]
  },
  {
   "cell_type": "code",
   "execution_count": 37,
   "id": "3e712548-b597-4b45-9416-f7de2ac3c1d9",
   "metadata": {},
   "outputs": [
    {
     "data": {
      "text/plain": [
       "array([['Nissan', 120000],\n",
       "       ['Hyundai', 15000],\n",
       "       ['Hyundai', 120000],\n",
       "       ...,\n",
       "       ['Maruti', 5000],\n",
       "       ['Hyundai', 60000],\n",
       "       ['Volkswagen', 28100]], dtype=object)"
      ]
     },
     "execution_count": 37,
     "metadata": {},
     "output_type": "execute_result"
    }
   ],
   "source": [
    "x_train[[\"brand\", \"km_driven\"]].values"
   ]
  },
  {
   "cell_type": "code",
   "execution_count": 38,
   "id": "bb2e4eaf-8483-4914-bc10-1b069878e338",
   "metadata": {},
   "outputs": [
    {
     "data": {
      "text/plain": [
       "(5689, 9)"
      ]
     },
     "execution_count": 38,
     "metadata": {},
     "output_type": "execute_result"
    }
   ],
   "source": [
    "np.hstack((x_train[[\"brand\", \"km_driven\"]].values, x_train_new)).shape"
   ]
  },
  {
   "cell_type": "code",
   "execution_count": 39,
   "id": "fd73a190-b437-4571-ad4f-c296b0e41236",
   "metadata": {},
   "outputs": [
    {
     "data": {
      "text/plain": [
       "array([['Nissan', 120000, 1, ..., 0, 0, 0],\n",
       "       ['Hyundai', 15000, 0, ..., 0, 0, 0],\n",
       "       ['Hyundai', 120000, 1, ..., 0, 0, 0],\n",
       "       ...,\n",
       "       ['Maruti', 5000, 0, ..., 0, 0, 0],\n",
       "       ['Hyundai', 60000, 0, ..., 1, 0, 0],\n",
       "       ['Volkswagen', 28100, 0, ..., 0, 0, 0]], dtype=object)"
      ]
     },
     "execution_count": 39,
     "metadata": {},
     "output_type": "execute_result"
    }
   ],
   "source": [
    "np.hstack((x_train[[\"brand\", \"km_driven\"]].values, x_train_new))"
   ]
  },
  {
   "cell_type": "code",
   "execution_count": null,
   "id": "3b2749c9-4fbd-43e0-9c0b-9d0049b0047c",
   "metadata": {},
   "outputs": [],
   "source": []
  }
 ],
 "metadata": {
  "kernelspec": {
   "display_name": "Python 3 (ipykernel)",
   "language": "python",
   "name": "python3"
  },
  "language_info": {
   "codemirror_mode": {
    "name": "ipython",
    "version": 3
   },
   "file_extension": ".py",
   "mimetype": "text/x-python",
   "name": "python",
   "nbconvert_exporter": "python",
   "pygments_lexer": "ipython3",
   "version": "3.12.7"
  }
 },
 "nbformat": 4,
 "nbformat_minor": 5
}
