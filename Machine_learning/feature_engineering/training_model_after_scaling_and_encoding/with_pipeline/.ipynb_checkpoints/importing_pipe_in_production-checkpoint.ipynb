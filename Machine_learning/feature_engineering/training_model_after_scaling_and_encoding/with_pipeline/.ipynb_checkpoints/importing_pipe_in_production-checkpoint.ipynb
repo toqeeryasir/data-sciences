{
 "cells": [
  {
   "cell_type": "code",
   "execution_count": 1,
   "id": "cb0fd7ef-6f6e-4938-9f37-e8c61302bf5c",
   "metadata": {},
   "outputs": [],
   "source": [
    "import numpy as np\n",
    "import pandas as pd"
   ]
  },
  {
   "cell_type": "code",
   "execution_count": 2,
   "id": "04a2a83b-8e70-48e7-a95b-1472070a9af7",
   "metadata": {},
   "outputs": [],
   "source": [
    "import pickle"
   ]
  },
  {
   "cell_type": "code",
   "execution_count": 3,
   "id": "dcb11c3e-b1aa-48a2-b548-3a79c5cf8496",
   "metadata": {},
   "outputs": [],
   "source": [
    "pipe = pickle.load(open(\"pipe.pkl\", \"rb\"))"
   ]
  },
  {
   "cell_type": "code",
   "execution_count": 4,
   "id": "4c330e2f-4945-4937-a29e-0962aaa25c90",
   "metadata": {},
   "outputs": [
    {
     "name": "stdout",
     "output_type": "stream",
     "text": [
      "Please enter the following details:\n"
     ]
    },
    {
     "name": "stdin",
     "output_type": "stream",
     "text": [
      "Pclass (1, 2, or 3):  1\n",
      "Sex (male or female):  female\n",
      "Age:  23\n",
      "SibSp (number of siblings/spouses aboard):  4\n",
      "Parch (number of parents/children aboard):  2\n",
      "Fare:  24\n",
      "Embarked (C, Q, or S):  S\n"
     ]
    }
   ],
   "source": [
    "column_names = [\"Pclass\", \"Sex\", \"Age\", \"SibSp\", \"Parch\", \"Fare\", \"Embarked\"]\n",
    "\n",
    "print(\"Please enter the following details:\")\n",
    "pclass = int(input(\"Pclass (1, 2, or 3): \"))\n",
    "sex = input(\"Sex (male or female): \")\n",
    "age = int(input(\"Age: \"))\n",
    "sibsp = int(input(\"SibSp (number of siblings/spouses aboard): \"))\n",
    "parch = int(input(\"Parch (number of parents/children aboard): \"))\n",
    "fare = float(input(\"Fare: \"))\n",
    "embarked = input(\"Embarked (C, Q, or S): \")\n",
    "\n",
    "user_input = np.array([pclass, sex, age, sibsp, parch, fare, embarked], dtype=object).reshape(1, -1)"
   ]
  },
  {
   "cell_type": "code",
   "execution_count": 5,
   "id": "9797a594-8e52-4e5d-9745-7f06892402d1",
   "metadata": {},
   "outputs": [],
   "source": [
    "pred_input_df = pd.DataFrame(user_input, columns=column_names)"
   ]
  },
  {
   "cell_type": "code",
   "execution_count": 6,
   "id": "97750c25-ab6e-494d-a20a-06d8ba4dce55",
   "metadata": {},
   "outputs": [
    {
     "name": "stdout",
     "output_type": "stream",
     "text": [
      "The person will be found: Dead\n"
     ]
    }
   ],
   "source": [
    "prob = pipe.predict(pred_input_df)\n",
    "print(f\"The person will be found: {\"Alive\" if prob==1 else \"Dead\"}\")"
   ]
  },
  {
   "cell_type": "code",
   "execution_count": null,
   "id": "169e45b0-f502-4a51-9ad5-49645d1c3194",
   "metadata": {},
   "outputs": [],
   "source": []
  }
 ],
 "metadata": {
  "kernelspec": {
   "display_name": "Python 3 (ipykernel)",
   "language": "python",
   "name": "python3"
  },
  "language_info": {
   "codemirror_mode": {
    "name": "ipython",
    "version": 3
   },
   "file_extension": ".py",
   "mimetype": "text/x-python",
   "name": "python",
   "nbconvert_exporter": "python",
   "pygments_lexer": "ipython3",
   "version": "3.12.7"
  }
 },
 "nbformat": 4,
 "nbformat_minor": 5
}
