{
 "cells": [
  {
   "cell_type": "code",
   "execution_count": 6,
   "id": "b15502a2",
   "metadata": {},
   "outputs": [],
   "source": [
    "import numpy as np\n",
    "import pandas as pd\n",
    "import seaborn as sns\n",
    "import matplotlib.pyplot as plt\n",
    "from sklearn.model_selection import train_test_split"
   ]
  },
  {
   "cell_type": "code",
   "execution_count": 2,
   "id": "9e4d586a",
   "metadata": {},
   "outputs": [],
   "source": [
    "df = pd.read_csv(\"titanic_toy.csv\")"
   ]
  },
  {
   "cell_type": "code",
   "execution_count": 4,
   "id": "7a55373e",
   "metadata": {},
   "outputs": [
    {
     "name": "stdout",
     "output_type": "stream",
     "text": [
      "<class 'pandas.core.frame.DataFrame'>\n",
      "RangeIndex: 891 entries, 0 to 890\n",
      "Data columns (total 4 columns):\n",
      " #   Column    Non-Null Count  Dtype  \n",
      "---  ------    --------------  -----  \n",
      " 0   Age       714 non-null    float64\n",
      " 1   Fare      846 non-null    float64\n",
      " 2   Family    891 non-null    int64  \n",
      " 3   Survived  891 non-null    int64  \n",
      "dtypes: float64(2), int64(2)\n",
      "memory usage: 28.0 KB\n"
     ]
    }
   ],
   "source": [
    "df.info()"
   ]
  },
  {
   "cell_type": "code",
   "execution_count": 5,
   "id": "41ab74f8",
   "metadata": {},
   "outputs": [
    {
     "data": {
      "text/html": [
       "<div>\n",
       "<style scoped>\n",
       "    .dataframe tbody tr th:only-of-type {\n",
       "        vertical-align: middle;\n",
       "    }\n",
       "\n",
       "    .dataframe tbody tr th {\n",
       "        vertical-align: top;\n",
       "    }\n",
       "\n",
       "    .dataframe thead th {\n",
       "        text-align: right;\n",
       "    }\n",
       "</style>\n",
       "<table border=\"1\" class=\"dataframe\">\n",
       "  <thead>\n",
       "    <tr style=\"text-align: right;\">\n",
       "      <th></th>\n",
       "      <th>Age</th>\n",
       "      <th>Fare</th>\n",
       "      <th>Family</th>\n",
       "      <th>Survived</th>\n",
       "    </tr>\n",
       "  </thead>\n",
       "  <tbody>\n",
       "    <tr>\n",
       "      <th>0</th>\n",
       "      <td>22.0</td>\n",
       "      <td>7.2500</td>\n",
       "      <td>1</td>\n",
       "      <td>0</td>\n",
       "    </tr>\n",
       "    <tr>\n",
       "      <th>1</th>\n",
       "      <td>38.0</td>\n",
       "      <td>71.2833</td>\n",
       "      <td>1</td>\n",
       "      <td>1</td>\n",
       "    </tr>\n",
       "    <tr>\n",
       "      <th>2</th>\n",
       "      <td>26.0</td>\n",
       "      <td>7.9250</td>\n",
       "      <td>0</td>\n",
       "      <td>1</td>\n",
       "    </tr>\n",
       "    <tr>\n",
       "      <th>3</th>\n",
       "      <td>35.0</td>\n",
       "      <td>53.1000</td>\n",
       "      <td>1</td>\n",
       "      <td>1</td>\n",
       "    </tr>\n",
       "    <tr>\n",
       "      <th>4</th>\n",
       "      <td>35.0</td>\n",
       "      <td>8.0500</td>\n",
       "      <td>0</td>\n",
       "      <td>0</td>\n",
       "    </tr>\n",
       "  </tbody>\n",
       "</table>\n",
       "</div>"
      ],
      "text/plain": [
       "    Age     Fare  Family  Survived\n",
       "0  22.0   7.2500       1         0\n",
       "1  38.0  71.2833       1         1\n",
       "2  26.0   7.9250       0         1\n",
       "3  35.0  53.1000       1         1\n",
       "4  35.0   8.0500       0         0"
      ]
     },
     "execution_count": 5,
     "metadata": {},
     "output_type": "execute_result"
    }
   ],
   "source": [
    "df.head()"
   ]
  },
  {
   "cell_type": "code",
   "execution_count": 7,
   "id": "a3f1c150",
   "metadata": {},
   "outputs": [
    {
     "data": {
      "text/plain": [
       "Age         177\n",
       "Fare         45\n",
       "Family        0\n",
       "Survived      0\n",
       "dtype: int64"
      ]
     },
     "execution_count": 7,
     "metadata": {},
     "output_type": "execute_result"
    }
   ],
   "source": [
    "df.isnull().sum()"
   ]
  },
  {
   "cell_type": "code",
   "execution_count": 11,
   "id": "22634647",
   "metadata": {},
   "outputs": [
    {
     "data": {
      "text/plain": [
       "(29.69911764705882, 32.279338297872336)"
      ]
     },
     "execution_count": 11,
     "metadata": {},
     "output_type": "execute_result"
    }
   ],
   "source": [
    "age_mean = df[\"Age\"].mean()\n",
    "fare_mean = df[\"Fare\"].mean()\n",
    "age_mean, fare_mean"
   ]
  },
  {
   "cell_type": "code",
   "execution_count": 14,
   "id": "52cd4693",
   "metadata": {},
   "outputs": [
    {
     "data": {
      "text/plain": [
       "(28.0, 14.4542)"
      ]
     },
     "execution_count": 14,
     "metadata": {},
     "output_type": "execute_result"
    }
   ],
   "source": [
    "age_median = df[\"Age\"].median()\n",
    "fare_median = df[\"Fare\"].median()\n",
    "age_median, fare_median"
   ]
  },
  {
   "cell_type": "code",
   "execution_count": 15,
   "id": "e3e30d0a",
   "metadata": {},
   "outputs": [],
   "source": [
    "x = df.drop(columns=\"Survived\")\n",
    "y = df[\"Survived\"]"
   ]
  },
  {
   "cell_type": "code",
   "execution_count": 16,
   "id": "b6499e30",
   "metadata": {},
   "outputs": [],
   "source": [
    "x_train, x_test, y_train, y_test = train_test_split(x, y, test_size=0.4, random_state=None)"
   ]
  },
  {
   "cell_type": "code",
   "execution_count": 18,
   "id": "45a67009",
   "metadata": {},
   "outputs": [
    {
     "data": {
      "text/html": [
       "<div>\n",
       "<style scoped>\n",
       "    .dataframe tbody tr th:only-of-type {\n",
       "        vertical-align: middle;\n",
       "    }\n",
       "\n",
       "    .dataframe tbody tr th {\n",
       "        vertical-align: top;\n",
       "    }\n",
       "\n",
       "    .dataframe thead th {\n",
       "        text-align: right;\n",
       "    }\n",
       "</style>\n",
       "<table border=\"1\" class=\"dataframe\">\n",
       "  <thead>\n",
       "    <tr style=\"text-align: right;\">\n",
       "      <th></th>\n",
       "      <th>Age</th>\n",
       "      <th>Fare</th>\n",
       "      <th>Family</th>\n",
       "      <th>Survived</th>\n",
       "      <th>Age_mean</th>\n",
       "      <th>Age_median</th>\n",
       "    </tr>\n",
       "  </thead>\n",
       "  <tbody>\n",
       "    <tr>\n",
       "      <th>0</th>\n",
       "      <td>22.0</td>\n",
       "      <td>7.2500</td>\n",
       "      <td>1</td>\n",
       "      <td>0</td>\n",
       "      <td>22.0</td>\n",
       "      <td>22.0</td>\n",
       "    </tr>\n",
       "    <tr>\n",
       "      <th>1</th>\n",
       "      <td>38.0</td>\n",
       "      <td>71.2833</td>\n",
       "      <td>1</td>\n",
       "      <td>1</td>\n",
       "      <td>38.0</td>\n",
       "      <td>38.0</td>\n",
       "    </tr>\n",
       "    <tr>\n",
       "      <th>2</th>\n",
       "      <td>26.0</td>\n",
       "      <td>7.9250</td>\n",
       "      <td>0</td>\n",
       "      <td>1</td>\n",
       "      <td>26.0</td>\n",
       "      <td>26.0</td>\n",
       "    </tr>\n",
       "    <tr>\n",
       "      <th>3</th>\n",
       "      <td>35.0</td>\n",
       "      <td>53.1000</td>\n",
       "      <td>1</td>\n",
       "      <td>1</td>\n",
       "      <td>35.0</td>\n",
       "      <td>35.0</td>\n",
       "    </tr>\n",
       "    <tr>\n",
       "      <th>4</th>\n",
       "      <td>35.0</td>\n",
       "      <td>8.0500</td>\n",
       "      <td>0</td>\n",
       "      <td>0</td>\n",
       "      <td>35.0</td>\n",
       "      <td>35.0</td>\n",
       "    </tr>\n",
       "  </tbody>\n",
       "</table>\n",
       "</div>"
      ],
      "text/plain": [
       "    Age     Fare  Family  Survived  Age_mean  Age_median\n",
       "0  22.0   7.2500       1         0      22.0        22.0\n",
       "1  38.0  71.2833       1         1      38.0        38.0\n",
       "2  26.0   7.9250       0         1      26.0        26.0\n",
       "3  35.0  53.1000       1         1      35.0        35.0\n",
       "4  35.0   8.0500       0         0      35.0        35.0"
      ]
     },
     "execution_count": 18,
     "metadata": {},
     "output_type": "execute_result"
    }
   ],
   "source": [
    "df[\"Age_mean\"] = df[\"Age\"].fillna(age_mean)\n",
    "df[\"Age_median\"] = df[\"Age\"].fillna(age_median)\n",
    "df.head()"
   ]
  },
  {
   "cell_type": "code",
   "execution_count": 19,
   "id": "f3d4fdbc",
   "metadata": {},
   "outputs": [
    {
     "data": {
      "text/html": [
       "<div>\n",
       "<style scoped>\n",
       "    .dataframe tbody tr th:only-of-type {\n",
       "        vertical-align: middle;\n",
       "    }\n",
       "\n",
       "    .dataframe tbody tr th {\n",
       "        vertical-align: top;\n",
       "    }\n",
       "\n",
       "    .dataframe thead th {\n",
       "        text-align: right;\n",
       "    }\n",
       "</style>\n",
       "<table border=\"1\" class=\"dataframe\">\n",
       "  <thead>\n",
       "    <tr style=\"text-align: right;\">\n",
       "      <th></th>\n",
       "      <th>Age</th>\n",
       "      <th>Fare</th>\n",
       "      <th>Family</th>\n",
       "      <th>Survived</th>\n",
       "      <th>Age_mean</th>\n",
       "      <th>Age_median</th>\n",
       "      <th>Fare_mean</th>\n",
       "      <th>Fare_median</th>\n",
       "    </tr>\n",
       "  </thead>\n",
       "  <tbody>\n",
       "    <tr>\n",
       "      <th>0</th>\n",
       "      <td>22.0</td>\n",
       "      <td>7.2500</td>\n",
       "      <td>1</td>\n",
       "      <td>0</td>\n",
       "      <td>22.0</td>\n",
       "      <td>22.0</td>\n",
       "      <td>7.2500</td>\n",
       "      <td>7.2500</td>\n",
       "    </tr>\n",
       "    <tr>\n",
       "      <th>1</th>\n",
       "      <td>38.0</td>\n",
       "      <td>71.2833</td>\n",
       "      <td>1</td>\n",
       "      <td>1</td>\n",
       "      <td>38.0</td>\n",
       "      <td>38.0</td>\n",
       "      <td>71.2833</td>\n",
       "      <td>71.2833</td>\n",
       "    </tr>\n",
       "    <tr>\n",
       "      <th>2</th>\n",
       "      <td>26.0</td>\n",
       "      <td>7.9250</td>\n",
       "      <td>0</td>\n",
       "      <td>1</td>\n",
       "      <td>26.0</td>\n",
       "      <td>26.0</td>\n",
       "      <td>7.9250</td>\n",
       "      <td>7.9250</td>\n",
       "    </tr>\n",
       "    <tr>\n",
       "      <th>3</th>\n",
       "      <td>35.0</td>\n",
       "      <td>53.1000</td>\n",
       "      <td>1</td>\n",
       "      <td>1</td>\n",
       "      <td>35.0</td>\n",
       "      <td>35.0</td>\n",
       "      <td>53.1000</td>\n",
       "      <td>53.1000</td>\n",
       "    </tr>\n",
       "    <tr>\n",
       "      <th>4</th>\n",
       "      <td>35.0</td>\n",
       "      <td>8.0500</td>\n",
       "      <td>0</td>\n",
       "      <td>0</td>\n",
       "      <td>35.0</td>\n",
       "      <td>35.0</td>\n",
       "      <td>8.0500</td>\n",
       "      <td>8.0500</td>\n",
       "    </tr>\n",
       "  </tbody>\n",
       "</table>\n",
       "</div>"
      ],
      "text/plain": [
       "    Age     Fare  Family  Survived  Age_mean  Age_median  Fare_mean  \\\n",
       "0  22.0   7.2500       1         0      22.0        22.0     7.2500   \n",
       "1  38.0  71.2833       1         1      38.0        38.0    71.2833   \n",
       "2  26.0   7.9250       0         1      26.0        26.0     7.9250   \n",
       "3  35.0  53.1000       1         1      35.0        35.0    53.1000   \n",
       "4  35.0   8.0500       0         0      35.0        35.0     8.0500   \n",
       "\n",
       "   Fare_median  \n",
       "0       7.2500  \n",
       "1      71.2833  \n",
       "2       7.9250  \n",
       "3      53.1000  \n",
       "4       8.0500  "
      ]
     },
     "execution_count": 19,
     "metadata": {},
     "output_type": "execute_result"
    }
   ],
   "source": [
    "df[\"Fare_mean\"] = df[\"Fare\"].fillna(fare_mean)\n",
    "df[\"Fare_median\"] = df[\"Fare\"].fillna(fare_median)\n",
    "df.head()"
   ]
  },
  {
   "cell_type": "markdown",
   "id": "39a182c5",
   "metadata": {},
   "source": [
    "# lets see the change in variance of the dataset:"
   ]
  },
  {
   "cell_type": "code",
   "execution_count": 21,
   "id": "eba6376f",
   "metadata": {},
   "outputs": [
    {
     "data": {
      "text/html": [
       "<div>\n",
       "<style scoped>\n",
       "    .dataframe tbody tr th:only-of-type {\n",
       "        vertical-align: middle;\n",
       "    }\n",
       "\n",
       "    .dataframe tbody tr th {\n",
       "        vertical-align: top;\n",
       "    }\n",
       "\n",
       "    .dataframe thead th {\n",
       "        text-align: right;\n",
       "    }\n",
       "</style>\n",
       "<table border=\"1\" class=\"dataframe\">\n",
       "  <thead>\n",
       "    <tr style=\"text-align: right;\">\n",
       "      <th></th>\n",
       "      <th>Age</th>\n",
       "      <th>Fare</th>\n",
       "      <th>Family</th>\n",
       "      <th>Survived</th>\n",
       "      <th>Age_mean</th>\n",
       "      <th>Age_median</th>\n",
       "      <th>Fare_mean</th>\n",
       "      <th>Fare_median</th>\n",
       "    </tr>\n",
       "  </thead>\n",
       "  <tbody>\n",
       "    <tr>\n",
       "      <th>Age</th>\n",
       "      <td>211.019125</td>\n",
       "      <td>78.071438</td>\n",
       "      <td>-6.507525</td>\n",
       "      <td>-0.551296</td>\n",
       "      <td>211.019125</td>\n",
       "      <td>211.019125</td>\n",
       "      <td>73.727862</td>\n",
       "      <td>73.196997</td>\n",
       "    </tr>\n",
       "    <tr>\n",
       "      <th>Fare</th>\n",
       "      <td>78.071438</td>\n",
       "      <td>2530.673077</td>\n",
       "      <td>17.460363</td>\n",
       "      <td>6.442361</td>\n",
       "      <td>62.210610</td>\n",
       "      <td>65.546143</td>\n",
       "      <td>2530.673077</td>\n",
       "      <td>2530.673077</td>\n",
       "    </tr>\n",
       "    <tr>\n",
       "      <th>Family</th>\n",
       "      <td>-6.507525</td>\n",
       "      <td>17.460363</td>\n",
       "      <td>2.603248</td>\n",
       "      <td>0.013063</td>\n",
       "      <td>-5.213332</td>\n",
       "      <td>-5.159658</td>\n",
       "      <td>16.577535</td>\n",
       "      <td>16.611725</td>\n",
       "    </tr>\n",
       "    <tr>\n",
       "      <th>Survived</th>\n",
       "      <td>-0.551296</td>\n",
       "      <td>6.442361</td>\n",
       "      <td>0.013063</td>\n",
       "      <td>0.236772</td>\n",
       "      <td>-0.441656</td>\n",
       "      <td>-0.411226</td>\n",
       "      <td>6.116624</td>\n",
       "      <td>6.021945</td>\n",
       "    </tr>\n",
       "    <tr>\n",
       "      <th>Age_mean</th>\n",
       "      <td>211.019125</td>\n",
       "      <td>62.210610</td>\n",
       "      <td>-5.213332</td>\n",
       "      <td>-0.441656</td>\n",
       "      <td>169.052400</td>\n",
       "      <td>169.052400</td>\n",
       "      <td>59.065130</td>\n",
       "      <td>58.639842</td>\n",
       "    </tr>\n",
       "    <tr>\n",
       "      <th>Age_median</th>\n",
       "      <td>211.019125</td>\n",
       "      <td>65.546143</td>\n",
       "      <td>-5.159658</td>\n",
       "      <td>-0.411226</td>\n",
       "      <td>169.052400</td>\n",
       "      <td>169.512498</td>\n",
       "      <td>62.232012</td>\n",
       "      <td>61.706696</td>\n",
       "    </tr>\n",
       "    <tr>\n",
       "      <th>Fare_mean</th>\n",
       "      <td>73.727862</td>\n",
       "      <td>2530.673077</td>\n",
       "      <td>16.577535</td>\n",
       "      <td>6.116624</td>\n",
       "      <td>59.065130</td>\n",
       "      <td>62.232012</td>\n",
       "      <td>2402.717697</td>\n",
       "      <td>2402.717697</td>\n",
       "    </tr>\n",
       "    <tr>\n",
       "      <th>Fare_median</th>\n",
       "      <td>73.196997</td>\n",
       "      <td>2530.673077</td>\n",
       "      <td>16.611725</td>\n",
       "      <td>6.021945</td>\n",
       "      <td>58.639842</td>\n",
       "      <td>61.706696</td>\n",
       "      <td>2402.717697</td>\n",
       "      <td>2417.971600</td>\n",
       "    </tr>\n",
       "  </tbody>\n",
       "</table>\n",
       "</div>"
      ],
      "text/plain": [
       "                    Age         Fare     Family  Survived    Age_mean  \\\n",
       "Age          211.019125    78.071438  -6.507525 -0.551296  211.019125   \n",
       "Fare          78.071438  2530.673077  17.460363  6.442361   62.210610   \n",
       "Family        -6.507525    17.460363   2.603248  0.013063   -5.213332   \n",
       "Survived      -0.551296     6.442361   0.013063  0.236772   -0.441656   \n",
       "Age_mean     211.019125    62.210610  -5.213332 -0.441656  169.052400   \n",
       "Age_median   211.019125    65.546143  -5.159658 -0.411226  169.052400   \n",
       "Fare_mean     73.727862  2530.673077  16.577535  6.116624   59.065130   \n",
       "Fare_median   73.196997  2530.673077  16.611725  6.021945   58.639842   \n",
       "\n",
       "             Age_median    Fare_mean  Fare_median  \n",
       "Age          211.019125    73.727862    73.196997  \n",
       "Fare          65.546143  2530.673077  2530.673077  \n",
       "Family        -5.159658    16.577535    16.611725  \n",
       "Survived      -0.411226     6.116624     6.021945  \n",
       "Age_mean     169.052400    59.065130    58.639842  \n",
       "Age_median   169.512498    62.232012    61.706696  \n",
       "Fare_mean     62.232012  2402.717697  2402.717697  \n",
       "Fare_median   61.706696  2402.717697  2417.971600  "
      ]
     },
     "execution_count": 21,
     "metadata": {},
     "output_type": "execute_result"
    }
   ],
   "source": [
    "df.cov()"
   ]
  },
  {
   "cell_type": "markdown",
   "id": "0323343c",
   "metadata": {},
   "source": [
    "# lets see the change in corelation of the dataset:"
   ]
  },
  {
   "cell_type": "code",
   "execution_count": 22,
   "id": "1be99945",
   "metadata": {},
   "outputs": [
    {
     "data": {
      "text/html": [
       "<div>\n",
       "<style scoped>\n",
       "    .dataframe tbody tr th:only-of-type {\n",
       "        vertical-align: middle;\n",
       "    }\n",
       "\n",
       "    .dataframe tbody tr th {\n",
       "        vertical-align: top;\n",
       "    }\n",
       "\n",
       "    .dataframe thead th {\n",
       "        text-align: right;\n",
       "    }\n",
       "</style>\n",
       "<table border=\"1\" class=\"dataframe\">\n",
       "  <thead>\n",
       "    <tr style=\"text-align: right;\">\n",
       "      <th></th>\n",
       "      <th>Age</th>\n",
       "      <th>Fare</th>\n",
       "      <th>Family</th>\n",
       "      <th>Survived</th>\n",
       "      <th>Age_mean</th>\n",
       "      <th>Age_median</th>\n",
       "      <th>Fare_mean</th>\n",
       "      <th>Fare_median</th>\n",
       "    </tr>\n",
       "  </thead>\n",
       "  <tbody>\n",
       "    <tr>\n",
       "      <th>Age</th>\n",
       "      <td>1.000000</td>\n",
       "      <td>0.099481</td>\n",
       "      <td>-0.301914</td>\n",
       "      <td>-0.077221</td>\n",
       "      <td>1.000000</td>\n",
       "      <td>1.000000</td>\n",
       "      <td>0.097273</td>\n",
       "      <td>0.096203</td>\n",
       "    </tr>\n",
       "    <tr>\n",
       "      <th>Fare</th>\n",
       "      <td>0.099481</td>\n",
       "      <td>1.000000</td>\n",
       "      <td>0.212626</td>\n",
       "      <td>0.263920</td>\n",
       "      <td>0.094681</td>\n",
       "      <td>0.099626</td>\n",
       "      <td>1.000000</td>\n",
       "      <td>1.000000</td>\n",
       "    </tr>\n",
       "    <tr>\n",
       "      <th>Family</th>\n",
       "      <td>-0.301914</td>\n",
       "      <td>0.212626</td>\n",
       "      <td>1.000000</td>\n",
       "      <td>0.016639</td>\n",
       "      <td>-0.248512</td>\n",
       "      <td>-0.245619</td>\n",
       "      <td>0.209609</td>\n",
       "      <td>0.209378</td>\n",
       "    </tr>\n",
       "    <tr>\n",
       "      <th>Survived</th>\n",
       "      <td>-0.077221</td>\n",
       "      <td>0.263920</td>\n",
       "      <td>0.016639</td>\n",
       "      <td>1.000000</td>\n",
       "      <td>-0.069809</td>\n",
       "      <td>-0.064910</td>\n",
       "      <td>0.256445</td>\n",
       "      <td>0.251678</td>\n",
       "    </tr>\n",
       "    <tr>\n",
       "      <th>Age_mean</th>\n",
       "      <td>1.000000</td>\n",
       "      <td>0.094681</td>\n",
       "      <td>-0.248512</td>\n",
       "      <td>-0.069809</td>\n",
       "      <td>1.000000</td>\n",
       "      <td>0.998642</td>\n",
       "      <td>0.092676</td>\n",
       "      <td>0.091718</td>\n",
       "    </tr>\n",
       "    <tr>\n",
       "      <th>Age_median</th>\n",
       "      <td>1.000000</td>\n",
       "      <td>0.099626</td>\n",
       "      <td>-0.245619</td>\n",
       "      <td>-0.064910</td>\n",
       "      <td>0.998642</td>\n",
       "      <td>1.000000</td>\n",
       "      <td>0.097513</td>\n",
       "      <td>0.096384</td>\n",
       "    </tr>\n",
       "    <tr>\n",
       "      <th>Fare_mean</th>\n",
       "      <td>0.097273</td>\n",
       "      <td>1.000000</td>\n",
       "      <td>0.209609</td>\n",
       "      <td>0.256445</td>\n",
       "      <td>0.092676</td>\n",
       "      <td>0.097513</td>\n",
       "      <td>1.000000</td>\n",
       "      <td>0.996841</td>\n",
       "    </tr>\n",
       "    <tr>\n",
       "      <th>Fare_median</th>\n",
       "      <td>0.096203</td>\n",
       "      <td>1.000000</td>\n",
       "      <td>0.209378</td>\n",
       "      <td>0.251678</td>\n",
       "      <td>0.091718</td>\n",
       "      <td>0.096384</td>\n",
       "      <td>0.996841</td>\n",
       "      <td>1.000000</td>\n",
       "    </tr>\n",
       "  </tbody>\n",
       "</table>\n",
       "</div>"
      ],
      "text/plain": [
       "                  Age      Fare    Family  Survived  Age_mean  Age_median  \\\n",
       "Age          1.000000  0.099481 -0.301914 -0.077221  1.000000    1.000000   \n",
       "Fare         0.099481  1.000000  0.212626  0.263920  0.094681    0.099626   \n",
       "Family      -0.301914  0.212626  1.000000  0.016639 -0.248512   -0.245619   \n",
       "Survived    -0.077221  0.263920  0.016639  1.000000 -0.069809   -0.064910   \n",
       "Age_mean     1.000000  0.094681 -0.248512 -0.069809  1.000000    0.998642   \n",
       "Age_median   1.000000  0.099626 -0.245619 -0.064910  0.998642    1.000000   \n",
       "Fare_mean    0.097273  1.000000  0.209609  0.256445  0.092676    0.097513   \n",
       "Fare_median  0.096203  1.000000  0.209378  0.251678  0.091718    0.096384   \n",
       "\n",
       "             Fare_mean  Fare_median  \n",
       "Age           0.097273     0.096203  \n",
       "Fare          1.000000     1.000000  \n",
       "Family        0.209609     0.209378  \n",
       "Survived      0.256445     0.251678  \n",
       "Age_mean      0.092676     0.091718  \n",
       "Age_median    0.097513     0.096384  \n",
       "Fare_mean     1.000000     0.996841  \n",
       "Fare_median   0.996841     1.000000  "
      ]
     },
     "execution_count": 22,
     "metadata": {},
     "output_type": "execute_result"
    }
   ],
   "source": [
    "df.corr()"
   ]
  },
  {
   "cell_type": "markdown",
   "id": "09c4d422",
   "metadata": {},
   "source": [
    "# now visually see the changes:"
   ]
  },
  {
   "cell_type": "code",
   "execution_count": 46,
   "id": "21c86955",
   "metadata": {},
   "outputs": [
    {
     "data": {
      "image/png": "[encoded data removed]",
      "text/plain": [
       "<Figure size 640x480 with 1 Axes>"
      ]
     },
     "metadata": {},
     "output_type": "display_data"
    }
   ],
   "source": [
    "sns.kdeplot(x = df[\"Age\"], color = \"red\", label = \"Age\")\n",
    "sns.kdeplot(x = df[\"Age_mean\"], color = \"green\", label = \"Age_mean\")\n",
    "sns.kdeplot(x = df[\"Age_median\"], color = \"yellow\", label = \"Age_median\")\n",
    "plt.show()"
   ]
  },
  {
   "cell_type": "code",
   "execution_count": 44,
   "id": "675cdf5e",
   "metadata": {},
   "outputs": [
    {
     "data": {
      "text/plain": [
       "<matplotlib.legend.Legend at 0x702e8ffb2690>"
      ]
     },
     "execution_count": 44,
     "metadata": {},
     "output_type": "execute_result"
    },
    {
     "data": {
      "image/png": "[encoded data removed]",
      "text/plain": [
       "<Figure size 640x480 with 1 Axes>"
      ]
     },
     "metadata": {},
     "output_type": "display_data"
    }
   ],
   "source": [
    "sns.kdeplot(x=df[\"Fare\"], color=\"red\", label=\"Fare\")\n",
    "sns.kdeplot(x=df[\"Fare_mean\"], color=\"green\", label=\"Fare_mean\")\n",
    "sns.kdeplot(x=df[\"Fare_median\"], color=\"yellow\", label=\"Fare_median\")\n",
    "plt.legend()"
   ]
  },
  {
   "cell_type": "code",
   "execution_count": 70,
   "id": "c7e657cb",
   "metadata": {},
   "outputs": [
    {
     "data": {
      "image/png": "[encoded data removed]",
      "text/plain": [
       "<Figure size 1600x800 with 3 Axes>"
      ]
     },
     "metadata": {},
     "output_type": "display_data"
    }
   ],
   "source": [
    "fig, axes = plt.subplots(1, 3, figsize = (16, 8))\n",
    "sns.boxplot(y = df[\"Age\"], ax=axes[0])\n",
    "sns.boxplot(y = df[\"Age_mean\"], ax=axes[1])\n",
    "sns.boxplot(y = df[\"Age_median\"], ax=axes[2])\n",
    "plt.tight_layout()\n",
    "plt.show()\n",
    "\n",
    "# after filling values with mean and median we can see out data has filly loaded with out-lairs so we need to use anotyer technique. "
   ]
  },
  {
   "cell_type": "code",
   "execution_count": 78,
   "id": "68b173da",
   "metadata": {},
   "outputs": [
    {
     "data": {
      "image/png": "[encoded data removed]",
      "text/plain": [
       "<Figure size 1600x800 with 3 Axes>"
      ]
     },
     "metadata": {},
     "output_type": "display_data"
    }
   ],
   "source": [
    "fig, axes = plt.subplots(1, 3, figsize = (16, 8))\n",
    "sns.boxplot(y = df[\"Fare\"], ax=axes[0])\n",
    "sns.boxplot(y = df[\"Fare_mean\"], ax=axes[1])\n",
    "sns.boxplot(y = df[\"Fare_median\"], ax=axes[2])\n",
    "plt.tight_layout()\n",
    "plt.show()\n",
    "\n",
    "# after filling values with mean and median we can see out data has no changes so it is completly fine."
   ]
  },
  {
   "cell_type": "code",
   "execution_count": null,
   "id": "08d1ddff",
   "metadata": {},
   "outputs": [],
   "source": []
  }
 ],
 "metadata": {
  "kernelspec": {
   "display_name": "Python 3 (ipykernel)",
   "language": "python",
   "name": "python3"
  },
  "language_info": {
   "codemirror_mode": {
    "name": "ipython",
    "version": 3
   },
   "file_extension": ".py",
   "mimetype": "text/x-python",
   "name": "python",
   "nbconvert_exporter": "python",
   "pygments_lexer": "ipython3",
   "version": "3.12.2"
  }
 },
 "nbformat": 4,
 "nbformat_minor": 5
}
